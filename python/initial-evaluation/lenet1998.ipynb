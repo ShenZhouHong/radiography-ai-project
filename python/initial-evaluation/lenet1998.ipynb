{
 "cells": [
  {
   "attachments": {},
   "cell_type": "markdown",
   "metadata": {},
   "source": [
    "# LeNet 1998 Model (End-to-End Trained) \n",
    "\n",
    "In this notebook, we will be creating a minimal baseline for our study by using the [1998 LeNet model](https://en.wikipedia.org/wiki/LeNet) as an example of a classical shallow convolutional neural network (CNN)."
   ]
  },
  {
   "attachments": {},
   "cell_type": "markdown",
   "metadata": {},
   "source": [
    "# Setup:\n",
    "\n",
    "## Connect to Remote Compute Environment\n",
    "\n",
    "First ensure we are connected to the correct VSCode Remote Kernel. This step is important, because in order to perform the k-fold cross-validation, we need fairly powerful compute resources. "
   ]
  },
  {
   "cell_type": "code",
   "execution_count": null,
   "metadata": {},
   "outputs": [],
   "source": [
    "!uname -nv && ls /"
   ]
  },
  {
   "attachments": {},
   "cell_type": "markdown",
   "metadata": {},
   "source": [
    "## Upgrade Python Modules\n",
    "\n",
    "Install the latest version of Tensorflow, and install Tensorflow. This may take some time."
   ]
  },
  {
   "cell_type": "code",
   "execution_count": null,
   "metadata": {},
   "outputs": [],
   "source": [
    "!pip3 install --quiet --upgrade tensorflow==2.11.0\n",
    "!pip3 install --quiet tensorflow_addons"
   ]
  },
  {
   "attachments": {},
   "cell_type": "markdown",
   "metadata": {},
   "source": [
    "Note: If you had to upgrade tensorflow to `2.11.0`, then you must restart your Jupyter notebook kernel in order for the latest version of tensorflow to be used."
   ]
  },
  {
   "attachments": {},
   "cell_type": "markdown",
   "metadata": {},
   "source": [
    "## Python Environment Checks\n",
    "\n",
    "Instantiate Python Kernel and load Python modules."
   ]
  },
  {
   "cell_type": "code",
   "execution_count": null,
   "metadata": {},
   "outputs": [],
   "source": [
    "import matplotlib.pyplot as plt\n",
    "import tensorflow as tf\n",
    "import tensorflow_addons as tfa\n",
    "import numpy as np\n",
    "import keras\n",
    "\n",
    "from keras import layers\n",
    "from typing import Literal, Union\n",
    "\n",
    "# Import utility functions defined in ../common/ package\n",
    "import sys\n",
    "sys.path.append('../')\n",
    "from common import *"
   ]
  },
  {
   "attachments": {},
   "cell_type": "markdown",
   "metadata": {},
   "source": [
    "Double-check GPU is available."
   ]
  },
  {
   "cell_type": "code",
   "execution_count": null,
   "metadata": {},
   "outputs": [],
   "source": [
    "display(tf.__version__)\n",
    "display(tf.config.list_physical_devices('GPU'))\n",
    "display(tf.test.gpu_device_name())\n",
    "tf.config.experimental.set_memory_growth(tf.config.list_physical_devices('GPU')[0], enable=True)"
   ]
  },
  {
   "attachments": {},
   "cell_type": "markdown",
   "metadata": {},
   "source": [
    "# Model Preparation\n",
    "\n",
    "Begin preparing the model's execution environment. First, we start by defining some constants:\n",
    "\n"
   ]
  },
  {
   "cell_type": "code",
   "execution_count": null,
   "metadata": {},
   "outputs": [],
   "source": [
    "BATCH_SIZE: int = 128\n",
    "EPOCHS    : int = 50\n",
    "IMG_SIZE  : tuple[int, int] = (299, 299)\n",
    "AUTOTUNE  : Literal = tf.data.AUTOTUNE\n",
    "RNG_SEED  : int = 1337\n",
    "\n",
    "# For Remote\n",
    "dataset_directory: str = \"./\"\n",
    "\n",
    "# For Local\n",
    "# dataset_directory: str = \"../../dataset/\""
   ]
  },
  {
   "attachments": {},
   "cell_type": "markdown",
   "metadata": {},
   "source": [
    "## Prepare Datasets\n",
    "\n",
    "Train, Test, and Validation dataset split:\n",
    "\n",
    "* Total: 2936 (100%)\n",
    "    * Training and Validation Set: 2490 (85%):\n",
    "        * K-Fold Cross-Validation, K = 10:\n",
    "            * Training Set:  2241 (~76%)\n",
    "            * Validation Set: 249 (~8.5% per fold)\n",
    "    * Hold-out Test Set:  441 (15%)\n"
   ]
  },
  {
   "cell_type": "code",
   "execution_count": null,
   "metadata": {},
   "outputs": [],
   "source": [
    "# InceptionV3 requires image tensors with a shape of (299, 299, 3) \n",
    "ds_train: tf.data.Dataset = tf.data.Dataset.load(dataset_directory + \"ds_train\")\n",
    "ds_valid: tf.data.Dataset = tf.data.Dataset.load(dataset_directory + \"ds_valid\")\n",
    "ds_test : tf.data.Dataset = tf.data.Dataset.load(dataset_directory + \"ds_test\")\n",
    "\n",
    "# For K-Fold Cross Validation\n",
    "ds_train_and_valid: tf.data.Dataset = ds_train.concatenate(ds_test)"
   ]
  },
  {
   "cell_type": "code",
   "execution_count": null,
   "metadata": {},
   "outputs": [],
   "source": [
    "# Batching, caching, and performance optimisations are *not* performed at this stage\n",
    "# Since we are doing K-Fold validation\n",
    "\n",
    "# configure_for_performance(ds_train)\n",
    "# configure_for_performance(ds_valid)\n",
    "# configure_for_performance(ds_test)"
   ]
  },
  {
   "cell_type": "code",
   "execution_count": null,
   "metadata": {},
   "outputs": [],
   "source": [
    "preview_dataset(ds_train_and_valid)"
   ]
  },
  {
   "attachments": {},
   "cell_type": "markdown",
   "metadata": {},
   "source": [
    "# Define Model"
   ]
  },
  {
   "cell_type": "code",
   "execution_count": null,
   "metadata": {},
   "outputs": [],
   "source": [
    "class LeNet1998(tf.keras.Model):\n",
    "    def __init__(self, name=None, dropout_rate: float = None, weights: str = None, **kwargs):\n",
    "        super().__init__(**kwargs)\n",
    "\n",
    "        # First, we will define the different components of the model separately\n",
    "        self.input_layer: tf.Tensor = layers.InputLayer(input_shape=(299, 299, 3), name=\"Input_Layer\")\n",
    "        self.data_augmentation: tf.keras.Sequential = tf.keras.Sequential(\n",
    "            [\n",
    "                layers.RandomFlip(seed=RNG_SEED),\n",
    "            ],\n",
    "            name=\"Data_Augmentation_Pipeline\"\n",
    "        )\n",
    "        self.lenet1999: tf.keras.Model = tf.keras.Sequential(\n",
    "            [\n",
    "                layers.Conv2D(6, kernel_size=5, strides=1,  activation='tanh', padding='same'),\n",
    "                layers.AveragePooling2D(),\n",
    "                layers.Conv2D(16, kernel_size=5, strides=1, activation='tanh', padding='valid'),\n",
    "                layers.AveragePooling2D(),\n",
    "            ],\n",
    "            name=\"Lenet1998_Model\"\n",
    "        )\n",
    "        # In this end-to-end training baseline we train the weights ourselves\n",
    "        self.classifier: tf.keras.Sequential = tf.keras.Sequential(\n",
    "            [\n",
    "                layers.Flatten(),\n",
    "                layers.Dense(1024, activation='relu'),\n",
    "                layers.Dense(18, activation='sigmoid')\n",
    "            ],\n",
    "            name=\"RUST_Score_Classifier\"\n",
    "        )\n",
    "\n",
    "        # Finally, we define the model as the sum of it's components\n",
    "        self.model: tf.keras.Sequential = tf.keras.Sequential(\n",
    "            [\n",
    "                self.input_layer,\n",
    "                self.data_augmentation,\n",
    "                self.lenet1999,\n",
    "                self.classifier\n",
    "            ],\n",
    "            name=\"InceptionV3_End2End\"\n",
    "        )\n",
    "    def call(self, inputs):\n",
    "        return self.model(inputs)"
   ]
  },
  {
   "attachments": {},
   "cell_type": "markdown",
   "metadata": {},
   "source": [
    "# Train Model with K-Fold Cross-Validation"
   ]
  },
  {
   "cell_type": "code",
   "execution_count": null,
   "metadata": {},
   "outputs": [],
   "source": [
    "kfold_history: list[dict[str, float]] = cross_validate(\n",
    "    LeNet1998,\n",
    "    ds_train_and_valid,\n",
    "    epochs=EPOCHS,\n",
    "    batch_size=BATCH_SIZE,\n",
    "    k=10\n",
    ")"
   ]
  },
  {
   "cell_type": "code",
   "execution_count": null,
   "metadata": {},
   "outputs": [],
   "source": [
    "plot_kfold_history(kfold_history)"
   ]
  },
  {
   "cell_type": "code",
   "execution_count": null,
   "metadata": {},
   "outputs": [],
   "source": [
    "import pickle\n",
    "\n",
    "with open('kfold_history_lenet1998.pickle', 'wb') as handle:\n",
    "    pickle.dump(kfold_history, handle, protocol=pickle.HIGHEST_PROTOCOL)\n",
    "\n",
    "# with open('kfold_history_inceptionv3_radimagenet.pickle', 'rb') as handle:\n",
    "#     b = pickle.load(handle)"
   ]
  }
 ],
 "metadata": {
  "kernelspec": {
   "display_name": "Python 3 (ipykernel)",
   "language": "python",
   "name": "python3"
  },
  "language_info": {
   "codemirror_mode": {
    "name": "ipython",
    "version": 3
   },
   "file_extension": ".py",
   "mimetype": "text/x-python",
   "name": "python",
   "nbconvert_exporter": "python",
   "pygments_lexer": "ipython3",
   "version": "3.9.16"
  },
  "orig_nbformat": 4
 },
 "nbformat": 4,
 "nbformat_minor": 2
}
